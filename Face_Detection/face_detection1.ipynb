{
 "cells": [
  {
   "cell_type": "markdown",
   "metadata": {},
   "source": [
    "# FACE DETECTION"
   ]
  },
  {
   "cell_type": "code",
   "execution_count": 1,
   "metadata": {},
   "outputs": [],
   "source": [
    "import cv2"
   ]
  },
  {
   "cell_type": "code",
   "execution_count": 2,
   "metadata": {},
   "outputs": [],
   "source": [
    "video_cap= cv2.VideoCapture(\"C:/Users/xpert/Documents/Data_Science_Project/Face_Detection/istockphoto-1309273621-640_adpp_is.mp4\")"
   ]
  },
  {
   "cell_type": "code",
   "execution_count": 3,
   "metadata": {},
   "outputs": [],
   "source": [
    "face_cap= cv2.CascadeClassifier(\"C:/Users/xpert/Documents/Data_Science_Project/Face_Detection/faces.xml\")          "
   ]
  },
  {
   "cell_type": "code",
   "execution_count": 4,
   "metadata": {},
   "outputs": [],
   "source": [
    "while (True):\n",
    "         ret,frame = video_cap.read()\n",
    "         gray = cv2.cvtColor(frame, cv2.COLOR_BGR2GRAY)\n",
    "         cars = face_cap.detectMultiScale(gray,1.1,5)\n",
    "         for (x,y,w,h) in cars :\n",
    "              cv2.rectangle(frame, (x, y),(x + w, y + h),(0,255,0),2)\n",
    "         cv2.imshow('car detection', frame)\n",
    "         if cv2.waitKey(1) &0XFF == ord('q'):\n",
    "                break \n",
    "cv2.destroyAllWindows()\n"
   ]
  }
 ],
 "metadata": {
  "kernelspec": {
   "display_name": "Python 3.11.0 64-bit",
   "language": "python",
   "name": "python3"
  },
  "language_info": {
   "codemirror_mode": {
    "name": "ipython",
    "version": 3
   },
   "file_extension": ".py",
   "mimetype": "text/x-python",
   "name": "python",
   "nbconvert_exporter": "python",
   "pygments_lexer": "ipython3",
   "version": "3.11.0"
  },
  "orig_nbformat": 4,
  "vscode": {
   "interpreter": {
    "hash": "5238573367df39f7286bb46f9ff5f08f63a01a80960060ce41e3c79b190280fa"
   }
  }
 },
 "nbformat": 4,
 "nbformat_minor": 2
}
